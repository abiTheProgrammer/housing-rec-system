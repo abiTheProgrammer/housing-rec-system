{
 "cells": [
  {
   "cell_type": "code",
   "execution_count": 1,
   "metadata": {},
   "outputs": [],
   "source": [
    "# Import relative modules\n",
    "import os\n",
    "import seaborn as sns\n",
    "import matplotlib.pyplot as plt"
   ]
  },
  {
   "cell_type": "code",
   "execution_count": 2,
   "metadata": {},
   "outputs": [],
   "source": [
    "# Go back a directory to access src\n",
    "os.chdir(\"..\")"
   ]
  },
  {
   "cell_type": "code",
   "execution_count": 3,
   "metadata": {},
   "outputs": [
    {
     "name": "stderr",
     "output_type": "stream",
     "text": [
      "24/06/16 19:18:10 WARN Utils: Your hostname, Denvers-MacBook-Air.local resolves to a loopback address: 127.0.0.1; using 10.185.14.231 instead (on interface en0)\n",
      "24/06/16 19:18:10 WARN Utils: Set SPARK_LOCAL_IP if you need to bind to another address\n",
      "Setting default log level to \"WARN\".\n",
      "To adjust logging level use sc.setLogLevel(newLevel). For SparkR, use setLogLevel(newLevel).\n",
      "24/06/16 19:18:10 WARN NativeCodeLoader: Unable to load native-hadoop library for your platform... using builtin-java classes where applicable\n"
     ]
    },
    {
     "name": "stdout",
     "output_type": "stream",
     "text": [
      "+--------+---------------------------------------------+------------------------------+-----+--------+-----------+-------------+\n",
      "|Price   |Address                                      |Rent Estimate                 |Beds |Baths   |Sq. Ft     |Home Type    |\n",
      "+--------+---------------------------------------------+------------------------------+-----+--------+-----------+-------------+\n",
      "|$434,870|Ausdale Rd, Cranston, RI 02910               |$1660/m Estimated Rental Value|NULL |NULL    |NULL       |Single-Family|\n",
      "|$360,675|Curtis St, Cranston, RI 02920                |$1770/m Estimated Rental Value|2 bed|2 bath  |878 sqft.  |Single-Family|\n",
      "|$358,697|Woburn St, Cranston, RI 02910                |$1520/m Estimated Rental Value|4 bed|1.5 bath|1,212 sqft.|Single-Family|\n",
      "|$159,334|Delway Rd, Cranston, RI 02910                |$1460/m Estimated Rental Value|NULL |NULL    |NULL       |NULL         |\n",
      "|$412,094|Capuano Ave, Cranston, RI 02920              |$1820/m Estimated Rental Value|3 bed|1 bath  |1,340 sqft.|Single-Family|\n",
      "|$360,355|Argyle St, Cranston, RI 02920                |$1400/m Estimated Rental Value|1 bed|1 bath  |1,152 sqft.|Single-Family|\n",
      "|$388,097|Ashley St, Cranston, RI 02920                |$1770/m Estimated Rental Value|3 bed|2 bath  |1,002 sqft.|Single-Family|\n",
      "|$451,096|Brettonwoods Dr, Cranston, RI 02920          |$1860/m Estimated Rental Value|3 bed|1.5 bath|1,416 sqft.|Single-Family|\n",
      "|$241,805|Pippin St, Cranston, RI 02920                |$1630/m Estimated Rental Value|3 bed|2 bath  |1,248 sqft.|Single-Family|\n",
      "|$431,167|Hawthorne Ave, Cranston, RI 02910            |$1680/m Estimated Rental Value|4 bed|1.5 bath|1,853 sqft.|Single-Family|\n",
      "|NULL    |Cranston St # 2, Cranston, RI 02920          |*Rental Value Coming Soon     |NULL |NULL    |NULL       |NULL         |\n",
      "|NULL    |Meshanticut Valley Pkw..., Cranston, RI 02920|*Rental Value Coming Soon     |NULL |NULL    |NULL       |NULL         |\n",
      "|$396,598|Eliot Rd, Cranston, RI 02910                 |$1550/m Estimated Rental Value|3 bed|1.5 bath|1,318 sqft.|Single-Family|\n",
      "|$414,838|Burdick Dr, Cranston, RI 02920               |$1830/m Estimated Rental Value|3 bed|2 bath  |1,296 sqft.|Single-Family|\n",
      "|$458,244|Quail Hollow Rd, Cranston, RI 02920          |$2020/m Estimated Rental Value|3 bed|1 bath  |1,564 sqft.|Single-Family|\n",
      "|$223,000|Whipple Ave, Cranston, RI 02920              |$1610/m Estimated Rental Value|7 bed|3 bath  |3,263 sqft.|Multi-Family |\n",
      "|NULL    |Elena St Apt 324, Cranston, RI 02920         |*Rental Value Coming Soon     |NULL |NULL    |NULL       |NULL         |\n",
      "|$430,694|Old Spring Rd, Cranston, RI 02920            |$1840/m Estimated Rental Value|3 bed|1 bath  |1,034 sqft.|Single-Family|\n",
      "|$474,676|Community Dr, Cranston, RI 02905             |$1800/m Estimated Rental Value|NULL |NULL    |NULL       |NULL         |\n",
      "|$601,885|E Pine Rd, Cranston, RI 02921                |$1860/m Estimated Rental Value|NULL |NULL    |NULL       |NULL         |\n",
      "+--------+---------------------------------------------+------------------------------+-----+--------+-----------+-------------+\n",
      "only showing top 20 rows\n",
      "\n"
     ]
    }
   ],
   "source": [
    "from src.data_processing.house_data_converter import HouseDataConverter\n",
    "\n",
    "hdc = HouseDataConverter(\"data/raw/Rhode-Island_hd.csv\")\n",
    "df = hdc.df\n",
    "df.show(truncate=False)"
   ]
  },
  {
   "cell_type": "code",
   "execution_count": 4,
   "metadata": {},
   "outputs": [
    {
     "name": "stdout",
     "output_type": "stream",
     "text": [
      "+----------+---------------------------------------+------------------------------+-----+--------+-----------+-------------+\n",
      "|Price     |Address                                |Rent Estimate                 |Beds |Baths   |Sq. Ft     |Home Type    |\n",
      "+----------+---------------------------------------+------------------------------+-----+--------+-----------+-------------+\n",
      "|$241,805  |Pippin St, Cranston, RI 02920          |$1630/m Estimated Rental Value|3 bed|2 bath  |1,248 sqft.|Single-Family|\n",
      "|$206,097  |Atwood Ave, Pawtucket, RI 02860        |*Rental Value Coming Soon     |3 bed|1 bath  |1,009 sqft.|Single-Family|\n",
      "|$168,980  |Blackstone St, Providence, RI 02907    |*Rental Value Coming Soon     |5 bed|1 bath  |1,334 sqft.|Single-Family|\n",
      "|$513,236  |Hopkins Ave, Johnston, RI 02919        |$2020/m Estimated Rental Value|3 bed|2 bath  |1,786 sqft.|Single-Family|\n",
      "|$347,437  |Haswill St, Warwick, RI 02889          |$1408/m Estimated Rental Value|3 bed|1 bath  |988 sqft.  |Single-Family|\n",
      "|$312,800  |Lafayette St, West Warwick, RI 02893   |$1398/m Estimated Rental Value|3 bed|2 bath  |1,674 sqft.|Multi-Family |\n",
      "|$430,216  |Marine Ave, Warwick, RI 02888          |$1720/m Estimated Rental Value|3 bed|2 bath  |1,080 sqft.|Single-Family|\n",
      "|$286,656  |Fletcher Ave, Cranston, RI 02920       |$1388/m Estimated Rental Value|3 bed|2 bath  |1,125 sqft.|Single-Family|\n",
      "|$1,375,548|Joslin St, North Providence, RI 02911  |$1630/m Estimated Rental Value|4 bed|3.5 bath|2,978 sqft.|Single-Family|\n",
      "|$387,441  |Cushing Rd, Warwick, RI 02888          |$1620/m Estimated Rental Value|3 bed|1.5 bath|1,476 sqft.|Single-Family|\n",
      "|$422,960  |Primrose St, Providence, RI 02909      |*Rental Value Coming Soon     |6 bed|3 bath  |3,644 sqft.|Multi-Family |\n",
      "|$352,773  |Hoxsie Ave, Warwick, RI 02889          |$1420/m Estimated Rental Value|3 bed|2 bath  |1,128 sqft.|Single-Family|\n",
      "|$285,647  |Summit Ave, West Warwick, RI 02893     |$1480/m Estimated Rental Value|3 bed|1.5 bath|1,008 sqft.|Single-Family|\n",
      "|$244,545  |Chaplin St, Pawtucket, RI 02861        |*Rental Value Coming Soon     |4 bed|2 bath  |2,122 sqft.|Multi-Family |\n",
      "|$271,830  |Fairoaks Ave, Providence, RI 02908     |*Rental Value Coming Soon     |4 bed|2 bath  |1,986 sqft.|Single-Family|\n",
      "|$351,000  |Albert Ave, Cranston, RI 02905         |$1840/m Estimated Rental Value|6 bed|3 bath  |3,487 sqft.|Multi-Family |\n",
      "|$367,463  |Talbot St, North Providence, RI 02904  |$1630/m Estimated Rental Value|3 bed|2.5 bath|1,144 sqft.|Single-Family|\n",
      "|$352,226  |Boulevard Ave, Lincoln, RI 02865       |$1840/m Estimated Rental Value|3 bed|1.5 bath|1,643 sqft.|Single-Family|\n",
      "|$368,780  |Florence St, North Providence, RI 02904|$1630/m Estimated Rental Value|4 bed|1 bath  |1,254 sqft.|Single-Family|\n",
      "|$379,245  |Highland Ave, Cumberland, RI 02864     |$1890/m Estimated Rental Value|3 bed|1 bath  |1,488 sqft.|Single-Family|\n",
      "+----------+---------------------------------------+------------------------------+-----+--------+-----------+-------------+\n",
      "only showing top 20 rows\n",
      "\n"
     ]
    }
   ],
   "source": [
    "dropped_df = df.dropDuplicates()\n",
    "dropped_df.show(truncate=False)"
   ]
  },
  {
   "cell_type": "code",
   "execution_count": 5,
   "metadata": {},
   "outputs": [
    {
     "name": "stdout",
     "output_type": "stream",
     "text": [
      "+----------+---------------------------------------+------------------------------+-----+--------+-----------+-------------+\n",
      "|Price     |Address                                |Rent Estimate                 |Beds |Baths   |Square Feet|Home Type    |\n",
      "+----------+---------------------------------------+------------------------------+-----+--------+-----------+-------------+\n",
      "|$241,805  |Pippin St, Cranston, RI 02920          |$1630/m Estimated Rental Value|3 bed|2 bath  |1,248 sqft.|Single-Family|\n",
      "|$206,097  |Atwood Ave, Pawtucket, RI 02860        |*Rental Value Coming Soon     |3 bed|1 bath  |1,009 sqft.|Single-Family|\n",
      "|$168,980  |Blackstone St, Providence, RI 02907    |*Rental Value Coming Soon     |5 bed|1 bath  |1,334 sqft.|Single-Family|\n",
      "|$513,236  |Hopkins Ave, Johnston, RI 02919        |$2020/m Estimated Rental Value|3 bed|2 bath  |1,786 sqft.|Single-Family|\n",
      "|$347,437  |Haswill St, Warwick, RI 02889          |$1408/m Estimated Rental Value|3 bed|1 bath  |988 sqft.  |Single-Family|\n",
      "|$312,800  |Lafayette St, West Warwick, RI 02893   |$1398/m Estimated Rental Value|3 bed|2 bath  |1,674 sqft.|Multi-Family |\n",
      "|$430,216  |Marine Ave, Warwick, RI 02888          |$1720/m Estimated Rental Value|3 bed|2 bath  |1,080 sqft.|Single-Family|\n",
      "|$286,656  |Fletcher Ave, Cranston, RI 02920       |$1388/m Estimated Rental Value|3 bed|2 bath  |1,125 sqft.|Single-Family|\n",
      "|$1,375,548|Joslin St, North Providence, RI 02911  |$1630/m Estimated Rental Value|4 bed|3.5 bath|2,978 sqft.|Single-Family|\n",
      "|$387,441  |Cushing Rd, Warwick, RI 02888          |$1620/m Estimated Rental Value|3 bed|1.5 bath|1,476 sqft.|Single-Family|\n",
      "|$422,960  |Primrose St, Providence, RI 02909      |*Rental Value Coming Soon     |6 bed|3 bath  |3,644 sqft.|Multi-Family |\n",
      "|$352,773  |Hoxsie Ave, Warwick, RI 02889          |$1420/m Estimated Rental Value|3 bed|2 bath  |1,128 sqft.|Single-Family|\n",
      "|$285,647  |Summit Ave, West Warwick, RI 02893     |$1480/m Estimated Rental Value|3 bed|1.5 bath|1,008 sqft.|Single-Family|\n",
      "|$244,545  |Chaplin St, Pawtucket, RI 02861        |*Rental Value Coming Soon     |4 bed|2 bath  |2,122 sqft.|Multi-Family |\n",
      "|$271,830  |Fairoaks Ave, Providence, RI 02908     |*Rental Value Coming Soon     |4 bed|2 bath  |1,986 sqft.|Single-Family|\n",
      "|$351,000  |Albert Ave, Cranston, RI 02905         |$1840/m Estimated Rental Value|6 bed|3 bath  |3,487 sqft.|Multi-Family |\n",
      "|$367,463  |Talbot St, North Providence, RI 02904  |$1630/m Estimated Rental Value|3 bed|2.5 bath|1,144 sqft.|Single-Family|\n",
      "|$352,226  |Boulevard Ave, Lincoln, RI 02865       |$1840/m Estimated Rental Value|3 bed|1.5 bath|1,643 sqft.|Single-Family|\n",
      "|$368,780  |Florence St, North Providence, RI 02904|$1630/m Estimated Rental Value|4 bed|1 bath  |1,254 sqft.|Single-Family|\n",
      "|$379,245  |Highland Ave, Cumberland, RI 02864     |$1890/m Estimated Rental Value|3 bed|1 bath  |1,488 sqft.|Single-Family|\n",
      "+----------+---------------------------------------+------------------------------+-----+--------+-----------+-------------+\n",
      "only showing top 20 rows\n",
      "\n"
     ]
    }
   ],
   "source": [
    "# Drop NA\n",
    "dropped_df = dropped_df.withColumnRenamed(\"Sq. Ft\", \"Square Feet\")\n",
    "dropped_df = dropped_df.dropna()\n",
    "dropped_df.show(truncate=False)"
   ]
  },
  {
   "cell_type": "code",
   "execution_count": 6,
   "metadata": {},
   "outputs": [
    {
     "name": "stdout",
     "output_type": "stream",
     "text": [
      "+--------+\n",
      "|   Price|\n",
      "+--------+\n",
      "|$385,664|\n",
      "|$250,665|\n",
      "|$221,935|\n",
      "|$414,870|\n",
      "|$377,485|\n",
      "|$203,320|\n",
      "|$218,089|\n",
      "|$396,598|\n",
      "|$383,139|\n",
      "|$372,967|\n",
      "|$715,434|\n",
      "|$383,809|\n",
      "|$385,210|\n",
      "|$145,520|\n",
      "|$257,509|\n",
      "|$420,633|\n",
      "|$308,814|\n",
      "|$413,454|\n",
      "|$363,314|\n",
      "|$277,200|\n",
      "+--------+\n",
      "only showing top 20 rows\n",
      "\n"
     ]
    }
   ],
   "source": [
    "# # all the unique values in the 'Price' column\n",
    "dropped_df.select(\"Price\").distinct().show()"
   ]
  },
  {
   "cell_type": "code",
   "execution_count": 7,
   "metadata": {},
   "outputs": [
    {
     "name": "stdout",
     "output_type": "stream",
     "text": [
      "+--------------------------------------+\n",
      "|Address                               |\n",
      "+--------------------------------------+\n",
      "|S Fairview St, Johnston, RI 02919     |\n",
      "|Hoxsie Ave, Warwick, RI 02889         |\n",
      "|Douglas Cir, Greenville, RI 02828     |\n",
      "|Loveday St, Providence, RI 02908      |\n",
      "|Westwood Ave, Cranston, RI 02905      |\n",
      "|Follett St, East Providence, RI 02914 |\n",
      "|Wendell St, North Providence, RI 02911|\n",
      "|Rathbun St Apt 2, Woonsocket, RI 02895|\n",
      "|Burleigh St, Providence, RI 02904     |\n",
      "|Bath St, Providence, RI 02908         |\n",
      "|Crestwood Dr, Richmond, RI 02832      |\n",
      "|Chestnut Ave, Cranston, RI 02910      |\n",
      "|Church Ave, Warwick, RI 02889         |\n",
      "|Harwood St, Cranston, RI 02910        |\n",
      "|Park View Blvd, Cranston, RI 02910    |\n",
      "|Mercy St, Providence, RI 02909        |\n",
      "|Grove St, Woonsocket, RI 02895        |\n",
      "|Janet Dr, Johnston, RI 02919          |\n",
      "|Raymond Rd, North Providence, RI 02911|\n",
      "|Capuano Ave, Cranston, RI 02920       |\n",
      "+--------------------------------------+\n",
      "only showing top 20 rows\n",
      "\n"
     ]
    }
   ],
   "source": [
    "# all the unique values in the 'Address' column\n",
    "dropped_df.select(\"Address\").distinct().show(truncate=False)"
   ]
  },
  {
   "cell_type": "code",
   "execution_count": 8,
   "metadata": {},
   "outputs": [
    {
     "name": "stdout",
     "output_type": "stream",
     "text": [
      "+------------------------------+\n",
      "|Rent Estimate                 |\n",
      "+------------------------------+\n",
      "|$1790/m Estimated Rental Value|\n",
      "|$2370/m Estimated Rental Value|\n",
      "|$2150/m Estimated Rental Value|\n",
      "|$1191/m Estimated Rental Value|\n",
      "|$1261/m Estimated Rental Value|\n",
      "|$1890/m Estimated Rental Value|\n",
      "|$1810/m Estimated Rental Value|\n",
      "|$2220/m Estimated Rental Value|\n",
      "|$1650/m Estimated Rental Value|\n",
      "|$1610/m Estimated Rental Value|\n",
      "|$1620/m Estimated Rental Value|\n",
      "|$1550/m Estimated Rental Value|\n",
      "|$1960/m Estimated Rental Value|\n",
      "|$1940/m Estimated Rental Value|\n",
      "|$1530/m Estimated Rental Value|\n",
      "|$2200/m Estimated Rental Value|\n",
      "|$1080/m Estimated Rental Value|\n",
      "|$1408/m Estimated Rental Value|\n",
      "|$2080/m Estimated Rental Value|\n",
      "|$2020/m Estimated Rental Value|\n",
      "+------------------------------+\n",
      "only showing top 20 rows\n",
      "\n"
     ]
    }
   ],
   "source": [
    "# all the unique values in the 'Rent Estimate' column\n",
    "dropped_df.select(\"Rent Estimate\").distinct().show(truncate=False)"
   ]
  },
  {
   "cell_type": "code",
   "execution_count": 9,
   "metadata": {},
   "outputs": [
    {
     "name": "stdout",
     "output_type": "stream",
     "text": [
      "+--------+-----------------------------------+-------------------------+-----+--------+-----------+-------------+\n",
      "|Price   |Address                            |Rent Estimate            |Beds |Baths   |Square Feet|Home Type    |\n",
      "+--------+-----------------------------------+-------------------------+-----+--------+-----------+-------------+\n",
      "|$206,097|Atwood Ave, Pawtucket, RI 02860    |*Rental Value Coming Soon|3 bed|1 bath  |1,009 sqft.|Single-Family|\n",
      "|$168,980|Blackstone St, Providence, RI 02907|*Rental Value Coming Soon|5 bed|1 bath  |1,334 sqft.|Single-Family|\n",
      "|$422,960|Primrose St, Providence, RI 02909  |*Rental Value Coming Soon|6 bed|3 bath  |3,644 sqft.|Multi-Family |\n",
      "|$244,545|Chaplin St, Pawtucket, RI 02861    |*Rental Value Coming Soon|4 bed|2 bath  |2,122 sqft.|Multi-Family |\n",
      "|$271,830|Fairoaks Ave, Providence, RI 02908 |*Rental Value Coming Soon|4 bed|2 bath  |1,986 sqft.|Single-Family|\n",
      "|$189,922|Ruth St, Pawtucket, RI 02861       |*Rental Value Coming Soon|2 bed|1 bath  |1,176 sqft.|Single-Family|\n",
      "|$283,543|Maynard St, Pawtucket, RI 02860    |*Rental Value Coming Soon|4 bed|1.5 bath|2,464 sqft.|Single-Family|\n",
      "|$178,755|Hazael St, Providence, RI 02908    |*Rental Value Coming Soon|4 bed|2 bath  |2,288 sqft.|Multi-Family |\n",
      "|$237,576|Revere St, Pawtucket, RI 02861     |*Rental Value Coming Soon|2 bed|1 bath  |1,072 sqft.|Single-Family|\n",
      "|$189,922|Ruth St, Pawtucket, RI 02861       |*Rental Value Coming Soon|2 bed|1 bath  |876 sqft.  |Single-Family|\n",
      "|$185,956|Lloyd St, Pawtucket, RI 02860      |*Rental Value Coming Soon|2 bed|1 bath  |840 sqft.  |Single-Family|\n",
      "|$207,230|Cross St, Westerly, RI 02891       |*Rental Value Coming Soon|2 bed|1 bath  |944 sqft.  |Single-Family|\n",
      "|$245,310|Power Rd, Pawtucket, RI 02860      |*Rental Value Coming Soon|2 bed|1 bath  |1,612 sqft.|Single-Family|\n",
      "|$274,720|Avon St, Pawtucket, RI 02860       |*Rental Value Coming Soon|4 bed|2 bath  |1,728 sqft.|Single-Family|\n",
      "|$261,348|Isabella Ave, Providence, RI 02908 |*Rental Value Coming Soon|3 bed|1 bath  |1,156 sqft.|Single-Family|\n",
      "|$185,158|Burleigh St, Providence, RI 02904  |*Rental Value Coming Soon|2 bed|1.5 bath|1,036 sqft.|Condo        |\n",
      "|$240,241|Arlington St, Westerly, RI 02891   |*Rental Value Coming Soon|2 bed|1.5 bath|1,056 sqft.|Single-Family|\n",
      "|$620,059|Shore Rd, Westerly, RI 02891       |*Rental Value Coming Soon|3 bed|2 bath  |1,418 sqft.|Single-Family|\n",
      "|$225,845|Hazard St, Pawtucket, RI 02860     |*Rental Value Coming Soon|4 bed|1 bath  |1,500 sqft.|Single-Family|\n",
      "|$332,222|Vicksburg St, Providence, RI 02904 |*Rental Value Coming Soon|6 bed|4.5 bath|2,484 sqft.|Multi-Family |\n",
      "+--------+-----------------------------------+-------------------------+-----+--------+-----------+-------------+\n",
      "only showing top 20 rows\n",
      "\n"
     ]
    }
   ],
   "source": [
    "# all the rows that have the value '*Rental Value Coming Soon' in 'Rent Estimate'\n",
    "# Assuming you have a SparkSession initialized and 'dropped_df' DataFrame is defined\n",
    "\n",
    "# Filter the DataFrame based on the condition\n",
    "dropped_df.filter(dropped_df[\"Rent Estimate\"] == \"*Rental Value Coming Soon\").show(truncate=False)"
   ]
  },
  {
   "cell_type": "code",
   "execution_count": 10,
   "metadata": {},
   "outputs": [
    {
     "name": "stdout",
     "output_type": "stream",
     "text": [
      "+-----+\n",
      "| Beds|\n",
      "+-----+\n",
      "|7 bed|\n",
      "|9 bed|\n",
      "|3 bed|\n",
      "|1 bed|\n",
      "|2 bed|\n",
      "|5 bed|\n",
      "|4 bed|\n",
      "|8 bed|\n",
      "|6 bed|\n",
      "+-----+\n",
      "\n"
     ]
    }
   ],
   "source": [
    "# all the unique values in the 'Beds' column\n",
    "dropped_df.select(\"Beds\").distinct().show()"
   ]
  },
  {
   "cell_type": "code",
   "execution_count": 11,
   "metadata": {},
   "outputs": [
    {
     "name": "stdout",
     "output_type": "stream",
     "text": [
      "+--------+\n",
      "|   Baths|\n",
      "+--------+\n",
      "|3.5 bath|\n",
      "|  3 bath|\n",
      "|4.5 bath|\n",
      "|  2 bath|\n",
      "|2.5 bath|\n",
      "|1.5 bath|\n",
      "|  1 bath|\n",
      "+--------+\n",
      "\n"
     ]
    }
   ],
   "source": [
    "# all the unique values in the 'Baths' column\n",
    "dropped_df.select(\"Baths\").distinct().show()"
   ]
  },
  {
   "cell_type": "code",
   "execution_count": 12,
   "metadata": {},
   "outputs": [
    {
     "name": "stdout",
     "output_type": "stream",
     "text": [
      "+-----------+\n",
      "|Square Feet|\n",
      "+-----------+\n",
      "|2,454 sqft.|\n",
      "|  883 sqft.|\n",
      "|1,904 sqft.|\n",
      "|1,322 sqft.|\n",
      "|2,226 sqft.|\n",
      "|1,178 sqft.|\n",
      "|1,674 sqft.|\n",
      "|1,825 sqft.|\n",
      "|1,814 sqft.|\n",
      "|1,140 sqft.|\n",
      "|1,465 sqft.|\n",
      "|1,552 sqft.|\n",
      "|1,748 sqft.|\n",
      "|2,016 sqft.|\n",
      "|1,524 sqft.|\n",
      "|3,263 sqft.|\n",
      "|1,299 sqft.|\n",
      "|1,143 sqft.|\n",
      "|1,980 sqft.|\n",
      "|1,681 sqft.|\n",
      "+-----------+\n",
      "only showing top 20 rows\n",
      "\n"
     ]
    }
   ],
   "source": [
    "# all the unique values in the 'Square Feet' column\n",
    "dropped_df.select(\"Square Feet\").distinct().show()"
   ]
  },
  {
   "cell_type": "code",
   "execution_count": 13,
   "metadata": {},
   "outputs": [
    {
     "name": "stdout",
     "output_type": "stream",
     "text": [
      "+--------+-------------------------------+------------------------------+-----+--------+-----------+-------------+\n",
      "|Price   |Address                        |Rent Estimate                 |Beds |Baths   |Square Feet|Home Type    |\n",
      "+--------+-------------------------------+------------------------------+-----+--------+-----------+-------------+\n",
      "|$386,676|Winter St, Woonsocket, RI 02895|$1160/m Estimated Rental Value|4 bed|1.5 bath|0 sqft.    |Single-Family|\n",
      "+--------+-------------------------------+------------------------------+-----+--------+-----------+-------------+\n",
      "\n"
     ]
    }
   ],
   "source": [
    "# all the rows that have the value '0 sqft.' in 'Square Feet'\n",
    "dropped_df.filter(dropped_df[\"Square Feet\"] == \"0 sqft.\").show(truncate=False)"
   ]
  },
  {
   "cell_type": "code",
   "execution_count": 14,
   "metadata": {},
   "outputs": [
    {
     "name": "stdout",
     "output_type": "stream",
     "text": [
      "+-------------+\n",
      "|    Home Type|\n",
      "+-------------+\n",
      "| Multi-Family|\n",
      "|        Condo|\n",
      "|Single-Family|\n",
      "+-------------+\n",
      "\n"
     ]
    }
   ],
   "source": [
    "# all the unique values in the 'Home Type' column\n",
    "dropped_df.select(\"Home Type\").distinct().show()"
   ]
  },
  {
   "cell_type": "code",
   "execution_count": 15,
   "metadata": {},
   "outputs": [
    {
     "name": "stdout",
     "output_type": "stream",
     "text": [
      "+----------+---------------------------------------+------------------------------+-----+--------+-----------+-------------+\n",
      "|Price     |Address                                |Rent Estimate                 |Beds |Baths   |Square Feet|Home Type    |\n",
      "+----------+---------------------------------------+------------------------------+-----+--------+-----------+-------------+\n",
      "|$241,805  |Pippin St, Cranston, RI 02920          |$1630/m Estimated Rental Value|3 bed|2 bath  |1,248 sqft.|Single-Family|\n",
      "|$513,236  |Hopkins Ave, Johnston, RI 02919        |$2020/m Estimated Rental Value|3 bed|2 bath  |1,786 sqft.|Single-Family|\n",
      "|$347,437  |Haswill St, Warwick, RI 02889          |$1408/m Estimated Rental Value|3 bed|1 bath  |988 sqft.  |Single-Family|\n",
      "|$312,800  |Lafayette St, West Warwick, RI 02893   |$1398/m Estimated Rental Value|3 bed|2 bath  |1,674 sqft.|Multi-Family |\n",
      "|$430,216  |Marine Ave, Warwick, RI 02888          |$1720/m Estimated Rental Value|3 bed|2 bath  |1,080 sqft.|Single-Family|\n",
      "|$286,656  |Fletcher Ave, Cranston, RI 02920       |$1388/m Estimated Rental Value|3 bed|2 bath  |1,125 sqft.|Single-Family|\n",
      "|$1,375,548|Joslin St, North Providence, RI 02911  |$1630/m Estimated Rental Value|4 bed|3.5 bath|2,978 sqft.|Single-Family|\n",
      "|$387,441  |Cushing Rd, Warwick, RI 02888          |$1620/m Estimated Rental Value|3 bed|1.5 bath|1,476 sqft.|Single-Family|\n",
      "|$352,773  |Hoxsie Ave, Warwick, RI 02889          |$1420/m Estimated Rental Value|3 bed|2 bath  |1,128 sqft.|Single-Family|\n",
      "|$285,647  |Summit Ave, West Warwick, RI 02893     |$1480/m Estimated Rental Value|3 bed|1.5 bath|1,008 sqft.|Single-Family|\n",
      "|$351,000  |Albert Ave, Cranston, RI 02905         |$1840/m Estimated Rental Value|6 bed|3 bath  |3,487 sqft.|Multi-Family |\n",
      "|$367,463  |Talbot St, North Providence, RI 02904  |$1630/m Estimated Rental Value|3 bed|2.5 bath|1,144 sqft.|Single-Family|\n",
      "|$352,226  |Boulevard Ave, Lincoln, RI 02865       |$1840/m Estimated Rental Value|3 bed|1.5 bath|1,643 sqft.|Single-Family|\n",
      "|$368,780  |Florence St, North Providence, RI 02904|$1630/m Estimated Rental Value|4 bed|1 bath  |1,254 sqft.|Single-Family|\n",
      "|$379,245  |Highland Ave, Cumberland, RI 02864     |$1890/m Estimated Rental Value|3 bed|1 bath  |1,488 sqft.|Single-Family|\n",
      "|$239,105  |King St, Johnston, RI 02919            |$1640/m Estimated Rental Value|2 bed|1 bath  |1,277 sqft.|Single-Family|\n",
      "|$305,404  |Winter Ave, Warwick, RI 02889          |$1490/m Estimated Rental Value|3 bed|2 bath  |748 sqft.  |Single-Family|\n",
      "|$223,000  |Whipple Ave, Cranston, RI 02920        |$1610/m Estimated Rental Value|7 bed|3 bath  |3,263 sqft.|Multi-Family |\n",
      "|$412,427  |Tanglewood Dr, Riverside, RI 02915     |$1770/m Estimated Rental Value|3 bed|1.5 bath|1,360 sqft.|Single-Family|\n",
      "|$423,804  |Juniper Dr, West Warwick, RI 02893     |$1960/m Estimated Rental Value|3 bed|1.5 bath|1,956 sqft.|Single-Family|\n",
      "+----------+---------------------------------------+------------------------------+-----+--------+-----------+-------------+\n",
      "only showing top 20 rows\n",
      "\n"
     ]
    }
   ],
   "source": [
    "# dropping all the rows that have either a 'Rent Estimate' value of '*Rental Value Coming Soon' or a 'Square Feet' value of '0 sqft.'\n",
    "dropped_df = dropped_df.filter((dropped_df[\"Rent Estimate\"] != \"*Rental Value Coming Soon\") & (dropped_df[\"Square Feet\"] != \"0 sqft.\"))\n",
    "dropped_df.show(truncate=False)"
   ]
  },
  {
   "cell_type": "code",
   "execution_count": 16,
   "metadata": {},
   "outputs": [
    {
     "name": "stdout",
     "output_type": "stream",
     "text": [
      "+-------+---------------------------------------+-------------+----+-----+-----------+-------------+\n",
      "|Price  |Address                                |Rent Estimate|Beds|Baths|Square Feet|Home Type    |\n",
      "+-------+---------------------------------------+-------------+----+-----+-----------+-------------+\n",
      "|241805 |Pippin St, Cranston, RI 02920          |1630         |3   |2    |1248       |Single-Family|\n",
      "|513236 |Hopkins Ave, Johnston, RI 02919        |2020         |3   |2    |1786       |Single-Family|\n",
      "|347437 |Haswill St, Warwick, RI 02889          |1408         |3   |1    |988        |Single-Family|\n",
      "|312800 |Lafayette St, West Warwick, RI 02893   |1398         |3   |2    |1674       |Multi-Family |\n",
      "|430216 |Marine Ave, Warwick, RI 02888          |1720         |3   |2    |1080       |Single-Family|\n",
      "|286656 |Fletcher Ave, Cranston, RI 02920       |1388         |3   |2    |1125       |Single-Family|\n",
      "|1375548|Joslin St, North Providence, RI 02911  |1630         |4   |3    |2978       |Single-Family|\n",
      "|387441 |Cushing Rd, Warwick, RI 02888          |1620         |3   |1    |1476       |Single-Family|\n",
      "|352773 |Hoxsie Ave, Warwick, RI 02889          |1420         |3   |2    |1128       |Single-Family|\n",
      "|285647 |Summit Ave, West Warwick, RI 02893     |1480         |3   |1    |1008       |Single-Family|\n",
      "|351000 |Albert Ave, Cranston, RI 02905         |1840         |6   |3    |3487       |Multi-Family |\n",
      "|367463 |Talbot St, North Providence, RI 02904  |1630         |3   |2    |1144       |Single-Family|\n",
      "|352226 |Boulevard Ave, Lincoln, RI 02865       |1840         |3   |1    |1643       |Single-Family|\n",
      "|368780 |Florence St, North Providence, RI 02904|1630         |4   |1    |1254       |Single-Family|\n",
      "|379245 |Highland Ave, Cumberland, RI 02864     |1890         |3   |1    |1488       |Single-Family|\n",
      "|239105 |King St, Johnston, RI 02919            |1640         |2   |1    |1277       |Single-Family|\n",
      "|305404 |Winter Ave, Warwick, RI 02889          |1490         |3   |2    |748        |Single-Family|\n",
      "|223000 |Whipple Ave, Cranston, RI 02920        |1610         |7   |3    |3263       |Multi-Family |\n",
      "|412427 |Tanglewood Dr, Riverside, RI 02915     |1770         |3   |1    |1360       |Single-Family|\n",
      "|423804 |Juniper Dr, West Warwick, RI 02893     |1960         |3   |1    |1956       |Single-Family|\n",
      "+-------+---------------------------------------+-------------+----+-----+-----------+-------------+\n",
      "only showing top 20 rows\n",
      "\n"
     ]
    }
   ],
   "source": [
    "from pyspark.sql.functions import regexp_replace\n",
    "from pyspark.sql.types import IntegerType\n",
    "\n",
    "def clean_and_convert(df):\n",
    "    # remove the dollar sign and commas out from all 'Price' values\n",
    "    # eg: '$360,675' becomes '360675'\n",
    "    # subsequently, the type is converted to int\n",
    "    df = df.withColumn('Price', regexp_replace('Price', '[\\$,]', '').cast(IntegerType()))\n",
    "\n",
    "    # remove the dollar sign and '/m Estimated Rental Value' out from all 'Rent Estimate' values\n",
    "    # eg: '$1770/m Estimated Rental Value' becomes '1770'\n",
    "    # subsequently, the type is converted to int\n",
    "    df = df.withColumn('Rent Estimate', regexp_replace('Rent Estimate', '[\\$,/m Estimated Rental Value]', '').cast(IntegerType()))\n",
    "\n",
    "    # remove ' bed' (notice how there is whitespace) out from all 'Beds' values\n",
    "    # eg: '2 bed' becomes '2'\n",
    "    # subsequently, the type is converted to int\n",
    "    df = df.withColumn('Beds', regexp_replace('Beds', ' bed', '').cast(IntegerType()))\n",
    "\n",
    "    # remove ' bath' (notice how there is whitespace) out from all 'Baths' values\n",
    "    # eg: '1.5 bath' becomes '1.5'\n",
    "    # subsequently, the type is converted to float (to handle half baths)\n",
    "    df = df.withColumn('Baths', regexp_replace('Baths', ' bath', '').cast(IntegerType()))\n",
    "\n",
    "    # remove ' sqft.' (notice how there is whitespace) and all commas out from all 'Sq. Ft' values\n",
    "    # eg: '1,212 sqft.' becomes '1212'\n",
    "    # subsequently, the type is converted to int\n",
    "    df = df.withColumn('Square Feet', regexp_replace('Square Feet', '[\\,sqft.]', '').cast(IntegerType()))\n",
    "    return df\n",
    "\n",
    "# Apply the function to clean and convert the DataFrame\n",
    "dropped_df = clean_and_convert(dropped_df)\n",
    "dropped_df.show(truncate=False)"
   ]
  },
  {
   "cell_type": "code",
   "execution_count": 17,
   "metadata": {},
   "outputs": [
    {
     "name": "stdout",
     "output_type": "stream",
     "text": [
      "+-------+-------------+----+-----+-----------+-------------+-------------+----------------+-----------+--------+\n",
      "|Price  |Rent Estimate|Beds|Baths|Square Feet|Home Type    |Street       |City            |State Label|Zip Code|\n",
      "+-------+-------------+----+-----+-----------+-------------+-------------+----------------+-----------+--------+\n",
      "|241805 |1630         |3   |2    |1248       |Single-Family|Pippin St    |Cranston        |RI         |2920    |\n",
      "|513236 |2020         |3   |2    |1786       |Single-Family|Hopkins Ave  |Johnston        |RI         |2919    |\n",
      "|347437 |1408         |3   |1    |988        |Single-Family|Haswill St   |Warwick         |RI         |2889    |\n",
      "|312800 |1398         |3   |2    |1674       |Multi-Family |Lafayette St |West Warwick    |RI         |2893    |\n",
      "|430216 |1720         |3   |2    |1080       |Single-Family|Marine Ave   |Warwick         |RI         |2888    |\n",
      "|286656 |1388         |3   |2    |1125       |Single-Family|Fletcher Ave |Cranston        |RI         |2920    |\n",
      "|1375548|1630         |4   |3    |2978       |Single-Family|Joslin St    |North Providence|RI         |2911    |\n",
      "|387441 |1620         |3   |1    |1476       |Single-Family|Cushing Rd   |Warwick         |RI         |2888    |\n",
      "|352773 |1420         |3   |2    |1128       |Single-Family|Hoxsie Ave   |Warwick         |RI         |2889    |\n",
      "|285647 |1480         |3   |1    |1008       |Single-Family|Summit Ave   |West Warwick    |RI         |2893    |\n",
      "|351000 |1840         |6   |3    |3487       |Multi-Family |Albert Ave   |Cranston        |RI         |2905    |\n",
      "|367463 |1630         |3   |2    |1144       |Single-Family|Talbot St    |North Providence|RI         |2904    |\n",
      "|352226 |1840         |3   |1    |1643       |Single-Family|Boulevard Ave|Lincoln         |RI         |2865    |\n",
      "|368780 |1630         |4   |1    |1254       |Single-Family|Florence St  |North Providence|RI         |2904    |\n",
      "|379245 |1890         |3   |1    |1488       |Single-Family|Highland Ave |Cumberland      |RI         |2864    |\n",
      "|239105 |1640         |2   |1    |1277       |Single-Family|King St      |Johnston        |RI         |2919    |\n",
      "|305404 |1490         |3   |2    |748        |Single-Family|Winter Ave   |Warwick         |RI         |2889    |\n",
      "|223000 |1610         |7   |3    |3263       |Multi-Family |Whipple Ave  |Cranston        |RI         |2920    |\n",
      "|412427 |1770         |3   |1    |1360       |Single-Family|Tanglewood Dr|Riverside       |RI         |2915    |\n",
      "|423804 |1960         |3   |1    |1956       |Single-Family|Juniper Dr   |West Warwick    |RI         |2893    |\n",
      "+-------+-------------+----+-----+-----------+-------------+-------------+----------------+-----------+--------+\n",
      "only showing top 20 rows\n",
      "\n"
     ]
    }
   ],
   "source": [
    "from pyspark.sql.functions import when, split, trim\n",
    "\n",
    "def extract_address(df):\n",
    "    # Step 1: Split by commas\n",
    "    df = df.withColumn(\"SplitAddress\", split(df[\"Address\"], \",\"))\n",
    "\n",
    "    # Step 2: Extract components and trim whitespace\n",
    "    df = df.withColumn(\"Street\", trim(df[\"SplitAddress\"][0])) \\\n",
    "           .withColumn(\"City\", trim(df[\"SplitAddress\"][1])) \\\n",
    "           .withColumn(\"temp1\", df[\"SplitAddress\"][2])\n",
    "\n",
    "    # had to make temp variables because with chatgpt's method, the 'State Label' and 'Zip Code' columns were empty and null respectively\n",
    "    df = df.withColumn(\"temp2\", split(df[\"SplitAddress\"][2], \" \"))\n",
    "    df = df.withColumn(\"State Label\", trim(df[\"temp2\"][1])) \\\n",
    "           .withColumn(\"Zip Code\", trim(df[\"temp2\"][2]).cast(IntegerType())) \\\n",
    "    # Drop intermediate column and original 'Address' column\n",
    "    df = df.drop(\"Address\", \"SplitAddress\", \"temp1\", \"temp2\")\n",
    "    return df\n",
    "\n",
    "# Assuming 'dropped_df' is your DataFrame\n",
    "dropped_df = extract_address(dropped_df)\n",
    "dropped_df.show(truncate=False)"
   ]
  },
  {
   "cell_type": "code",
   "execution_count": 18,
   "metadata": {},
   "outputs": [
    {
     "name": "stdout",
     "output_type": "stream",
     "text": [
      "+-------+-------------+----+-----+-----------+---------+-------------+----------------+-----------+--------+\n",
      "|Price  |Rent Estimate|Beds|Baths|Square Feet|Home Type|Street       |City            |State Label|Zip Code|\n",
      "+-------+-------------+----+-----+-----------+---------+-------------+----------------+-----------+--------+\n",
      "|241805 |1630         |3   |2    |1248       |SF       |Pippin St    |Cranston        |RI         |2920    |\n",
      "|513236 |2020         |3   |2    |1786       |SF       |Hopkins Ave  |Johnston        |RI         |2919    |\n",
      "|347437 |1408         |3   |1    |988        |SF       |Haswill St   |Warwick         |RI         |2889    |\n",
      "|312800 |1398         |3   |2    |1674       |MF       |Lafayette St |West Warwick    |RI         |2893    |\n",
      "|430216 |1720         |3   |2    |1080       |SF       |Marine Ave   |Warwick         |RI         |2888    |\n",
      "|286656 |1388         |3   |2    |1125       |SF       |Fletcher Ave |Cranston        |RI         |2920    |\n",
      "|1375548|1630         |4   |3    |2978       |SF       |Joslin St    |North Providence|RI         |2911    |\n",
      "|387441 |1620         |3   |1    |1476       |SF       |Cushing Rd   |Warwick         |RI         |2888    |\n",
      "|352773 |1420         |3   |2    |1128       |SF       |Hoxsie Ave   |Warwick         |RI         |2889    |\n",
      "|285647 |1480         |3   |1    |1008       |SF       |Summit Ave   |West Warwick    |RI         |2893    |\n",
      "|351000 |1840         |6   |3    |3487       |MF       |Albert Ave   |Cranston        |RI         |2905    |\n",
      "|367463 |1630         |3   |2    |1144       |SF       |Talbot St    |North Providence|RI         |2904    |\n",
      "|352226 |1840         |3   |1    |1643       |SF       |Boulevard Ave|Lincoln         |RI         |2865    |\n",
      "|368780 |1630         |4   |1    |1254       |SF       |Florence St  |North Providence|RI         |2904    |\n",
      "|379245 |1890         |3   |1    |1488       |SF       |Highland Ave |Cumberland      |RI         |2864    |\n",
      "|239105 |1640         |2   |1    |1277       |SF       |King St      |Johnston        |RI         |2919    |\n",
      "|305404 |1490         |3   |2    |748        |SF       |Winter Ave   |Warwick         |RI         |2889    |\n",
      "|223000 |1610         |7   |3    |3263       |MF       |Whipple Ave  |Cranston        |RI         |2920    |\n",
      "|412427 |1770         |3   |1    |1360       |SF       |Tanglewood Dr|Riverside       |RI         |2915    |\n",
      "|423804 |1960         |3   |1    |1956       |SF       |Juniper Dr   |West Warwick    |RI         |2893    |\n",
      "+-------+-------------+----+-----+-----------+---------+-------------+----------------+-----------+--------+\n",
      "only showing top 20 rows\n",
      "\n"
     ]
    }
   ],
   "source": [
    "# all the unique 'Home Type' values shortened for simplicity\n",
    "home_type_mapping = {\n",
    "    'Single-Family': 'SF',\n",
    "    'Multi-Family': 'MF',\n",
    "    'Condo': 'CON',\n",
    "    'Mobile Home': 'MH',\n",
    "    'Commercial': 'COMM'\n",
    "}\n",
    "\n",
    "# Apply the mapping to the \"Home Type\" column\n",
    "home_type_expr = when(dropped_df[\"Home Type\"] == \"Single-Family\", \"SF\") \\\n",
    "    .when(dropped_df[\"Home Type\"] == \"Multi-Family\", \"MF\") \\\n",
    "    .when(dropped_df[\"Home Type\"] == \"Condo\", \"CON\") \\\n",
    "    .when(dropped_df[\"Home Type\"] == \"Mobile Home\", \"MH\") \\\n",
    "    .when(dropped_df[\"Home Type\"] == \"Commercial\", \"COMM\")\n",
    "\n",
    "dropped_df = dropped_df.withColumn(\"Home Type\", home_type_expr)\n",
    "dropped_df.show(truncate=False)"
   ]
  },
  {
   "cell_type": "code",
   "execution_count": 19,
   "metadata": {},
   "outputs": [
    {
     "name": "stdout",
     "output_type": "stream",
     "text": [
      "+-------+-------------+----+-----+-----------+---------+-------------+----------------+-----------+--------+\n",
      "|Price  |Rent Estimate|Beds|Baths|Square Feet|Home Type|Street       |City            |State Label|Zip Code|\n",
      "+-------+-------------+----+-----+-----------+---------+-------------+----------------+-----------+--------+\n",
      "|241805 |1630         |3   |2    |1248       |SF       |Pippin St    |Cranston        |RI         |2920    |\n",
      "|513236 |2020         |3   |2    |1786       |SF       |Hopkins Ave  |Johnston        |RI         |2919    |\n",
      "|347437 |1408         |3   |1    |988        |SF       |Haswill St   |Warwick         |RI         |2889    |\n",
      "|312800 |1398         |3   |2    |1674       |MF       |Lafayette St |West Warwick    |RI         |2893    |\n",
      "|430216 |1720         |3   |2    |1080       |SF       |Marine Ave   |Warwick         |RI         |2888    |\n",
      "|286656 |1388         |3   |2    |1125       |SF       |Fletcher Ave |Cranston        |RI         |2920    |\n",
      "|1375548|1630         |4   |3    |2978       |SF       |Joslin St    |North Providence|RI         |2911    |\n",
      "|387441 |1620         |3   |1    |1476       |SF       |Cushing Rd   |Warwick         |RI         |2888    |\n",
      "|352773 |1420         |3   |2    |1128       |SF       |Hoxsie Ave   |Warwick         |RI         |2889    |\n",
      "|285647 |1480         |3   |1    |1008       |SF       |Summit Ave   |West Warwick    |RI         |2893    |\n",
      "|351000 |1840         |6   |3    |3487       |MF       |Albert Ave   |Cranston        |RI         |2905    |\n",
      "|367463 |1630         |3   |2    |1144       |SF       |Talbot St    |North Providence|RI         |2904    |\n",
      "|352226 |1840         |3   |1    |1643       |SF       |Boulevard Ave|Lincoln         |RI         |2865    |\n",
      "|368780 |1630         |4   |1    |1254       |SF       |Florence St  |North Providence|RI         |2904    |\n",
      "|379245 |1890         |3   |1    |1488       |SF       |Highland Ave |Cumberland      |RI         |2864    |\n",
      "|239105 |1640         |2   |1    |1277       |SF       |King St      |Johnston        |RI         |2919    |\n",
      "|305404 |1490         |3   |2    |748        |SF       |Winter Ave   |Warwick         |RI         |2889    |\n",
      "|223000 |1610         |7   |3    |3263       |MF       |Whipple Ave  |Cranston        |RI         |2920    |\n",
      "|412427 |1770         |3   |1    |1360       |SF       |Tanglewood Dr|Riverside       |RI         |2915    |\n",
      "|423804 |1960         |3   |1    |1956       |SF       |Juniper Dr   |West Warwick    |RI         |2893    |\n",
      "+-------+-------------+----+-----+-----------+---------+-------------+----------------+-----------+--------+\n",
      "only showing top 20 rows\n",
      "\n"
     ]
    },
    {
     "name": "stderr",
     "output_type": "stream",
     "text": [
      "24/06/16 19:18:29 WARN GarbageCollectionMetrics: To enable non-built-in garbage collector(s) List(G1 Concurrent GC), users should configure it(them) to spark.eventLog.gcMetrics.youngGenerationGarbageCollectors or spark.eventLog.gcMetrics.oldGenerationGarbageCollectors\n"
     ]
    }
   ],
   "source": [
    "def drop_outliers(df):\n",
    "    # 0 beds is an outlier\n",
    "    df = df.filter(df[\"Beds\"] > 0)\n",
    "    # 0 baths is an outlier\n",
    "    df = df.filter(df[\"Baths\"] > 0)\n",
    "    # anything less than 200 sq. ft is an outlier\n",
    "    df = df.filter(df[\"Square Feet\"] >= 200)\n",
    "    return df\n",
    "\n",
    "dropped_df = drop_outliers(dropped_df)\n",
    "dropped_df.show(truncate=False)"
   ]
  }
 ],
 "metadata": {
  "kernelspec": {
   "display_name": ".venv",
   "language": "python",
   "name": "python3"
  },
  "language_info": {
   "codemirror_mode": {
    "name": "ipython",
    "version": 3
   },
   "file_extension": ".py",
   "mimetype": "text/x-python",
   "name": "python",
   "nbconvert_exporter": "python",
   "pygments_lexer": "ipython3",
   "version": "3.11.6"
  }
 },
 "nbformat": 4,
 "nbformat_minor": 2
}
